{
 "cells": [
  {
   "cell_type": "markdown",
   "id": "842285cb-f6c6-4204-918d-73bdf0eaeba7",
   "metadata": {},
   "source": [
    "## Basics"
   ]
  },
  {
   "cell_type": "code",
   "execution_count": 36,
   "id": "d6632364",
   "metadata": {
    "_cell_guid": "b1076dfc-b9ad-4769-8c92-a6c4dae69d19",
    "_uuid": "8f2839f25d086af736a60e9eeb907d3b93b6e0e5",
    "papermill": {
     "duration": 0.899136,
     "end_time": "2024-07-22T07:06:57.859660",
     "exception": false,
     "start_time": "2024-07-22T07:06:56.960524",
     "status": "completed"
    },
    "tags": []
   },
   "outputs": [],
   "source": [
    "# This Python 3 environment comes with many helpful analytics libraries installed\n",
    "# It is defined by the kaggle/python Docker image: https://github.com/kaggle/docker-python\n",
    "# For example, here's several helpful packages to load\n",
    "\n",
    "import numpy as np # linear algebra\n",
    "import pandas as pd # data processing, CSV file I/O (e.g. pd.read_csv)\n",
    "\n",
    "# Input data files are available in the read-only \"../input/\" directory\n",
    "# For example, running this (by clicking run or pressing Shift+Enter) will list all files under the input directory\n",
    "\n",
    "import os\n",
    "for dirname, _, filenames in os.walk('/kaggle/input'):\n",
    "    for filename in filenames:\n",
    "        print(os.path.join(dirname, filename))\n",
    "\n",
    "# You can write up to 20GB to the current directory (/kaggle/working/) that gets preserved as output when you create a version using \"Save & Run All\" \n",
    "# You can also write temporary files to /kaggle/temp/, but they won't be saved outside of the current session"
   ]
  },
  {
   "cell_type": "code",
   "execution_count": 37,
   "id": "de0b89f7",
   "metadata": {
    "papermill": {
     "duration": 1.996327,
     "end_time": "2024-07-22T07:06:59.864108",
     "exception": false,
     "start_time": "2024-07-22T07:06:57.867781",
     "status": "completed"
    },
    "tags": []
   },
   "outputs": [],
   "source": [
    "# imports \n",
    "import pandas as pd\n",
    "import numpy as np \n",
    "import seaborn as sns\n",
    "import matplotlib.pyplot as plt\n",
    "from sklearn.linear_model import LogisticRegression\n",
    "from sklearn.model_selection import train_test_split, StratifiedKFold, GridSearchCV\n",
    "from sklearn.preprocessing import RobustScaler, StandardScaler\n",
    "from sklearn.feature_selection import RFECV\n",
    "from sklearn.tree import DecisionTreeClassifier\n",
    "from sklearn.neighbors import KNeighborsClassifier\n",
    "from sklearn.metrics import accuracy_score\n",
    "from sklearn.ensemble import RandomForestClassifier\n",
    "from sklearn.naive_bayes import MultinomialNB\n",
    "from catboost import CatBoostClassifier\n",
    "import xgboost as xgb"
   ]
  },
  {
   "cell_type": "code",
   "execution_count": 38,
   "id": "c364c685",
   "metadata": {
    "papermill": {
     "duration": 20.096174,
     "end_time": "2024-07-22T07:07:19.968426",
     "exception": false,
     "start_time": "2024-07-22T07:06:59.872252",
     "status": "completed"
    },
    "tags": []
   },
   "outputs": [],
   "source": [
    "df = pd.read_csv('train.csv')"
   ]
  },
  {
   "cell_type": "code",
   "execution_count": 39,
   "id": "5cb678bb",
   "metadata": {
    "papermill": {
     "duration": 0.718957,
     "end_time": "2024-07-22T07:07:20.695378",
     "exception": false,
     "start_time": "2024-07-22T07:07:19.976421",
     "status": "completed"
    },
    "tags": []
   },
   "outputs": [],
   "source": [
    "target = df['Response']\n",
    "id = df['id']\n",
    "df.drop(columns=['id', 'Region_Code', 'Response'], inplace=True)"
   ]
  },
  {
   "cell_type": "code",
   "execution_count": 40,
   "id": "373be3de",
   "metadata": {
    "papermill": {
     "duration": 0.249902,
     "end_time": "2024-07-22T07:07:20.953162",
     "exception": false,
     "start_time": "2024-07-22T07:07:20.703260",
     "status": "completed"
    },
    "tags": []
   },
   "outputs": [],
   "source": [
    "df['Policy_Sales_Channel'] = df['Policy_Sales_Channel'].astype('category')"
   ]
  },
  {
   "cell_type": "markdown",
   "id": "730bc3b2-317f-486f-800e-6d979ceb81b3",
   "metadata": {},
   "source": [
    "## EDA"
   ]
  },
  {
   "cell_type": "code",
   "execution_count": 6,
   "id": "6438530e-06fb-43ac-b589-60bca34bff6c",
   "metadata": {},
   "outputs": [
    {
     "data": {
      "text/plain": [
       "Index(['Gender', 'Age', 'Driving_License', 'Previously_Insured', 'Vehicle_Age',\n",
       "       'Vehicle_Damage', 'Annual_Premium', 'Policy_Sales_Channel', 'Vintage'],\n",
       "      dtype='object')"
      ]
     },
     "execution_count": 6,
     "metadata": {},
     "output_type": "execute_result"
    }
   ],
   "source": [
    "df.columns"
   ]
  },
  {
   "cell_type": "code",
   "execution_count": 7,
   "id": "4589e1a1-15c2-4a4f-bb30-e82d966c89a6",
   "metadata": {},
   "outputs": [
    {
     "data": {
      "text/html": [
       "<div>\n",
       "<style scoped>\n",
       "    .dataframe tbody tr th:only-of-type {\n",
       "        vertical-align: middle;\n",
       "    }\n",
       "\n",
       "    .dataframe tbody tr th {\n",
       "        vertical-align: top;\n",
       "    }\n",
       "\n",
       "    .dataframe thead th {\n",
       "        text-align: right;\n",
       "    }\n",
       "</style>\n",
       "<table border=\"1\" class=\"dataframe\">\n",
       "  <thead>\n",
       "    <tr style=\"text-align: right;\">\n",
       "      <th></th>\n",
       "      <th>Gender</th>\n",
       "      <th>Age</th>\n",
       "      <th>Driving_License</th>\n",
       "      <th>Previously_Insured</th>\n",
       "      <th>Vehicle_Age</th>\n",
       "      <th>Vehicle_Damage</th>\n",
       "      <th>Annual_Premium</th>\n",
       "      <th>Policy_Sales_Channel</th>\n",
       "      <th>Vintage</th>\n",
       "    </tr>\n",
       "  </thead>\n",
       "  <tbody>\n",
       "    <tr>\n",
       "      <th>0</th>\n",
       "      <td>Male</td>\n",
       "      <td>21</td>\n",
       "      <td>1</td>\n",
       "      <td>0</td>\n",
       "      <td>1-2 Year</td>\n",
       "      <td>Yes</td>\n",
       "      <td>65101.0</td>\n",
       "      <td>124.0</td>\n",
       "      <td>187</td>\n",
       "    </tr>\n",
       "    <tr>\n",
       "      <th>1</th>\n",
       "      <td>Male</td>\n",
       "      <td>43</td>\n",
       "      <td>1</td>\n",
       "      <td>0</td>\n",
       "      <td>&gt; 2 Years</td>\n",
       "      <td>Yes</td>\n",
       "      <td>58911.0</td>\n",
       "      <td>26.0</td>\n",
       "      <td>288</td>\n",
       "    </tr>\n",
       "    <tr>\n",
       "      <th>2</th>\n",
       "      <td>Female</td>\n",
       "      <td>25</td>\n",
       "      <td>1</td>\n",
       "      <td>1</td>\n",
       "      <td>&lt; 1 Year</td>\n",
       "      <td>No</td>\n",
       "      <td>38043.0</td>\n",
       "      <td>152.0</td>\n",
       "      <td>254</td>\n",
       "    </tr>\n",
       "    <tr>\n",
       "      <th>3</th>\n",
       "      <td>Female</td>\n",
       "      <td>35</td>\n",
       "      <td>1</td>\n",
       "      <td>0</td>\n",
       "      <td>1-2 Year</td>\n",
       "      <td>Yes</td>\n",
       "      <td>2630.0</td>\n",
       "      <td>156.0</td>\n",
       "      <td>76</td>\n",
       "    </tr>\n",
       "    <tr>\n",
       "      <th>4</th>\n",
       "      <td>Female</td>\n",
       "      <td>36</td>\n",
       "      <td>1</td>\n",
       "      <td>1</td>\n",
       "      <td>1-2 Year</td>\n",
       "      <td>No</td>\n",
       "      <td>31951.0</td>\n",
       "      <td>152.0</td>\n",
       "      <td>294</td>\n",
       "    </tr>\n",
       "  </tbody>\n",
       "</table>\n",
       "</div>"
      ],
      "text/plain": [
       "   Gender  Age  Driving_License  Previously_Insured Vehicle_Age  \\\n",
       "0    Male   21                1                   0    1-2 Year   \n",
       "1    Male   43                1                   0   > 2 Years   \n",
       "2  Female   25                1                   1    < 1 Year   \n",
       "3  Female   35                1                   0    1-2 Year   \n",
       "4  Female   36                1                   1    1-2 Year   \n",
       "\n",
       "  Vehicle_Damage  Annual_Premium Policy_Sales_Channel  Vintage  \n",
       "0            Yes         65101.0                124.0      187  \n",
       "1            Yes         58911.0                 26.0      288  \n",
       "2             No         38043.0                152.0      254  \n",
       "3            Yes          2630.0                156.0       76  \n",
       "4             No         31951.0                152.0      294  "
      ]
     },
     "execution_count": 7,
     "metadata": {},
     "output_type": "execute_result"
    }
   ],
   "source": [
    "df.head()"
   ]
  },
  {
   "cell_type": "code",
   "execution_count": 8,
   "id": "3927253b-c770-4373-8c73-45d318d8d51b",
   "metadata": {},
   "outputs": [
    {
     "data": {
      "text/html": [
       "<div>\n",
       "<style scoped>\n",
       "    .dataframe tbody tr th:only-of-type {\n",
       "        vertical-align: middle;\n",
       "    }\n",
       "\n",
       "    .dataframe tbody tr th {\n",
       "        vertical-align: top;\n",
       "    }\n",
       "\n",
       "    .dataframe thead th {\n",
       "        text-align: right;\n",
       "    }\n",
       "</style>\n",
       "<table border=\"1\" class=\"dataframe\">\n",
       "  <thead>\n",
       "    <tr style=\"text-align: right;\">\n",
       "      <th></th>\n",
       "      <th>Age</th>\n",
       "      <th>Driving_License</th>\n",
       "      <th>Previously_Insured</th>\n",
       "      <th>Annual_Premium</th>\n",
       "      <th>Vintage</th>\n",
       "    </tr>\n",
       "  </thead>\n",
       "  <tbody>\n",
       "    <tr>\n",
       "      <th>count</th>\n",
       "      <td>1.150480e+07</td>\n",
       "      <td>1.150480e+07</td>\n",
       "      <td>1.150480e+07</td>\n",
       "      <td>1.150480e+07</td>\n",
       "      <td>1.150480e+07</td>\n",
       "    </tr>\n",
       "    <tr>\n",
       "      <th>mean</th>\n",
       "      <td>3.838356e+01</td>\n",
       "      <td>9.980220e-01</td>\n",
       "      <td>4.629966e-01</td>\n",
       "      <td>3.046137e+04</td>\n",
       "      <td>1.638977e+02</td>\n",
       "    </tr>\n",
       "    <tr>\n",
       "      <th>std</th>\n",
       "      <td>1.499346e+01</td>\n",
       "      <td>4.443120e-02</td>\n",
       "      <td>4.986289e-01</td>\n",
       "      <td>1.645475e+04</td>\n",
       "      <td>7.997953e+01</td>\n",
       "    </tr>\n",
       "    <tr>\n",
       "      <th>min</th>\n",
       "      <td>2.000000e+01</td>\n",
       "      <td>0.000000e+00</td>\n",
       "      <td>0.000000e+00</td>\n",
       "      <td>2.630000e+03</td>\n",
       "      <td>1.000000e+01</td>\n",
       "    </tr>\n",
       "    <tr>\n",
       "      <th>25%</th>\n",
       "      <td>2.400000e+01</td>\n",
       "      <td>1.000000e+00</td>\n",
       "      <td>0.000000e+00</td>\n",
       "      <td>2.527700e+04</td>\n",
       "      <td>9.900000e+01</td>\n",
       "    </tr>\n",
       "    <tr>\n",
       "      <th>50%</th>\n",
       "      <td>3.600000e+01</td>\n",
       "      <td>1.000000e+00</td>\n",
       "      <td>0.000000e+00</td>\n",
       "      <td>3.182400e+04</td>\n",
       "      <td>1.660000e+02</td>\n",
       "    </tr>\n",
       "    <tr>\n",
       "      <th>75%</th>\n",
       "      <td>4.900000e+01</td>\n",
       "      <td>1.000000e+00</td>\n",
       "      <td>1.000000e+00</td>\n",
       "      <td>3.945100e+04</td>\n",
       "      <td>2.320000e+02</td>\n",
       "    </tr>\n",
       "    <tr>\n",
       "      <th>max</th>\n",
       "      <td>8.500000e+01</td>\n",
       "      <td>1.000000e+00</td>\n",
       "      <td>1.000000e+00</td>\n",
       "      <td>5.401650e+05</td>\n",
       "      <td>2.990000e+02</td>\n",
       "    </tr>\n",
       "  </tbody>\n",
       "</table>\n",
       "</div>"
      ],
      "text/plain": [
       "                Age  Driving_License  Previously_Insured  Annual_Premium  \\\n",
       "count  1.150480e+07     1.150480e+07        1.150480e+07    1.150480e+07   \n",
       "mean   3.838356e+01     9.980220e-01        4.629966e-01    3.046137e+04   \n",
       "std    1.499346e+01     4.443120e-02        4.986289e-01    1.645475e+04   \n",
       "min    2.000000e+01     0.000000e+00        0.000000e+00    2.630000e+03   \n",
       "25%    2.400000e+01     1.000000e+00        0.000000e+00    2.527700e+04   \n",
       "50%    3.600000e+01     1.000000e+00        0.000000e+00    3.182400e+04   \n",
       "75%    4.900000e+01     1.000000e+00        1.000000e+00    3.945100e+04   \n",
       "max    8.500000e+01     1.000000e+00        1.000000e+00    5.401650e+05   \n",
       "\n",
       "            Vintage  \n",
       "count  1.150480e+07  \n",
       "mean   1.638977e+02  \n",
       "std    7.997953e+01  \n",
       "min    1.000000e+01  \n",
       "25%    9.900000e+01  \n",
       "50%    1.660000e+02  \n",
       "75%    2.320000e+02  \n",
       "max    2.990000e+02  "
      ]
     },
     "execution_count": 8,
     "metadata": {},
     "output_type": "execute_result"
    }
   ],
   "source": [
    "df.describe()"
   ]
  },
  {
   "cell_type": "code",
   "execution_count": 9,
   "id": "9bc1aca5-4fae-4420-bce8-78d9c8b7ee27",
   "metadata": {},
   "outputs": [
    {
     "data": {
      "text/plain": [
       "{'whiskers': [<matplotlib.lines.Line2D at 0x1b1ba8d4280>,\n",
       "  <matplotlib.lines.Line2D at 0x1b1ba8d4520>],\n",
       " 'caps': [<matplotlib.lines.Line2D at 0x1b1ba8d47c0>,\n",
       "  <matplotlib.lines.Line2D at 0x1b1ba8d4a60>],\n",
       " 'boxes': [<matplotlib.lines.Line2D at 0x1b1ba8bbfa0>],\n",
       " 'medians': [<matplotlib.lines.Line2D at 0x1b1ba8d4d00>],\n",
       " 'fliers': [<matplotlib.lines.Line2D at 0x1b1ba8d4fa0>],\n",
       " 'means': []}"
      ]
     },
     "execution_count": 9,
     "metadata": {},
     "output_type": "execute_result"
    },
    {
     "data": {
      "image/png": "[encoded data removed]",
      "text/plain": [
       "<Figure size 640x480 with 1 Axes>"
      ]
     },
     "metadata": {},
     "output_type": "display_data"
    }
   ],
   "source": [
    "plt.boxplot(df['Annual_Premium'])"
   ]
  },
  {
   "cell_type": "code",
   "execution_count": 10,
   "id": "381fb8fd-4120-4ebe-94eb-743e2ed879fa",
   "metadata": {},
   "outputs": [
    {
     "data": {
      "text/plain": [
       "{'whiskers': [<matplotlib.lines.Line2D at 0x1b1ba90faf0>,\n",
       "  <matplotlib.lines.Line2D at 0x1b1ba90fd90>],\n",
       " 'caps': [<matplotlib.lines.Line2D at 0x1b1ba91e070>,\n",
       "  <matplotlib.lines.Line2D at 0x1b1ba91e310>],\n",
       " 'boxes': [<matplotlib.lines.Line2D at 0x1b1ba90f850>],\n",
       " 'medians': [<matplotlib.lines.Line2D at 0x1b1ba91e5b0>],\n",
       " 'fliers': [<matplotlib.lines.Line2D at 0x1b1ba91e850>],\n",
       " 'means': []}"
      ]
     },
     "execution_count": 10,
     "metadata": {},
     "output_type": "execute_result"
    },
    {
     "data": {
      "image/png": "[encoded data removed]",
      "text/plain": [
       "<Figure size 640x480 with 1 Axes>"
      ]
     },
     "metadata": {},
     "output_type": "display_data"
    }
   ],
   "source": [
    "plt.boxplot(df['Age'])"
   ]
  },
  {
   "cell_type": "code",
   "execution_count": 11,
   "id": "6a5b5b80-c6c0-42fd-9224-84b726fb95a4",
   "metadata": {},
   "outputs": [
    {
     "data": {
      "text/plain": [
       "{'whiskers': [<matplotlib.lines.Line2D at 0x1b1ba98b310>,\n",
       "  <matplotlib.lines.Line2D at 0x1b1ba98b5b0>],\n",
       " 'caps': [<matplotlib.lines.Line2D at 0x1b1ba98b850>,\n",
       "  <matplotlib.lines.Line2D at 0x1b1ba98baf0>],\n",
       " 'boxes': [<matplotlib.lines.Line2D at 0x1b1ba98b070>],\n",
       " 'medians': [<matplotlib.lines.Line2D at 0x1b1ba98bd90>],\n",
       " 'fliers': [<matplotlib.lines.Line2D at 0x1b1ba999070>],\n",
       " 'means': []}"
      ]
     },
     "execution_count": 11,
     "metadata": {},
     "output_type": "execute_result"
    },
    {
     "data": {
      "image/png": "[encoded data removed]",
      "text/plain": [
       "<Figure size 640x480 with 1 Axes>"
      ]
     },
     "metadata": {},
     "output_type": "display_data"
    }
   ],
   "source": [
    "plt.boxplot(df['Vintage'])"
   ]
  },
  {
   "cell_type": "code",
   "execution_count": 12,
   "id": "61f47a24-375d-43e1-bd48-9760a8ede828",
   "metadata": {},
   "outputs": [
    {
     "data": {
      "image/png": "[encoded data removed]",
      "text/plain": [
       "<Figure size 640x480 with 1 Axes>"
      ]
     },
     "metadata": {},
     "output_type": "display_data"
    }
   ],
   "source": [
    "plt.hist(df['Annual_Premium'], bins=200)\n",
    "plt.show()"
   ]
  },
  {
   "cell_type": "code",
   "execution_count": 13,
   "id": "32f8848b-f305-44ca-92d5-fd64e700080c",
   "metadata": {},
   "outputs": [
    {
     "data": {
      "image/png": "[encoded data removed]",
      "text/plain": [
       "<Figure size 640x480 with 1 Axes>"
      ]
     },
     "metadata": {},
     "output_type": "display_data"
    }
   ],
   "source": [
    "plt.hist(df['Age'], bins=100)\n",
    "plt.show()"
   ]
  },
  {
   "cell_type": "code",
   "execution_count": 14,
   "id": "372f5bef-60df-448f-9579-66426a6aa6ea",
   "metadata": {},
   "outputs": [
    {
     "data": {
      "image/png": "[encoded data removed]",
      "text/plain": [
       "<Figure size 640x480 with 1 Axes>"
      ]
     },
     "metadata": {},
     "output_type": "display_data"
    }
   ],
   "source": [
    "plt.hist(df['Vintage'], bins=100)\n",
    "plt.show()"
   ]
  },
  {
   "cell_type": "markdown",
   "id": "c108be23",
   "metadata": {
    "papermill": {
     "duration": 0.007639,
     "end_time": "2024-07-22T07:07:20.968871",
     "exception": false,
     "start_time": "2024-07-22T07:07:20.961232",
     "status": "completed"
    },
    "tags": []
   },
   "source": [
    "## Feature Engineering "
   ]
  },
  {
   "cell_type": "code",
   "execution_count": 41,
   "id": "6c4a3eb9",
   "metadata": {
    "papermill": {
     "duration": 0.016338,
     "end_time": "2024-07-22T07:07:20.993030",
     "exception": false,
     "start_time": "2024-07-22T07:07:20.976692",
     "status": "completed"
    },
    "tags": []
   },
   "outputs": [],
   "source": [
    "def gender_to_num(gender):\n",
    "    if gender == 'Male':\n",
    "        return 1\n",
    "    return 0 "
   ]
  },
  {
   "cell_type": "code",
   "execution_count": 42,
   "id": "ac739b78",
   "metadata": {
    "papermill": {
     "duration": 0.016488,
     "end_time": "2024-07-22T07:07:21.018331",
     "exception": false,
     "start_time": "2024-07-22T07:07:21.001843",
     "status": "completed"
    },
    "tags": []
   },
   "outputs": [],
   "source": [
    "def age_to_number(age):\n",
    "    if age == '< 1 Year':\n",
    "        return 0\n",
    "    elif age == '1-2 Year':\n",
    "        return 1\n",
    "    else:\n",
    "        return 2"
   ]
  },
  {
   "cell_type": "code",
   "execution_count": 43,
   "id": "c8d0db78",
   "metadata": {
    "papermill": {
     "duration": 0.016177,
     "end_time": "2024-07-22T07:07:21.042364",
     "exception": false,
     "start_time": "2024-07-22T07:07:21.026187",
     "status": "completed"
    },
    "tags": []
   },
   "outputs": [],
   "source": [
    "def damage_to_number(damage):\n",
    "    if damage == 'Yes':\n",
    "        return 1\n",
    "    return 0"
   ]
  },
  {
   "cell_type": "code",
   "execution_count": 44,
   "id": "570b1004-c0d1-4c09-a464-210395d54c59",
   "metadata": {},
   "outputs": [],
   "source": [
    "df['NewDriver'] = (df['Driving_License'] == 1) & (df['Age'] < 21)"
   ]
  },
  {
   "cell_type": "code",
   "execution_count": 45,
   "id": "b4c5ef5a-4c88-4c91-8802-5a3ac9406ece",
   "metadata": {},
   "outputs": [],
   "source": [
    "df['HighValue'] = (df['Vintage'] > 200) & (df['Annual_Premium'] > 30000)"
   ]
  },
  {
   "cell_type": "code",
   "execution_count": 46,
   "id": "c5f714bb-3d0a-427c-a99c-22985aa26e8f",
   "metadata": {},
   "outputs": [],
   "source": [
    "def bool_to_int(bool_val):\n",
    "    if bool_val:\n",
    "        return 1\n",
    "    return 0"
   ]
  },
  {
   "cell_type": "code",
   "execution_count": 47,
   "id": "b0b7e0f9-6baa-4605-8f91-6c30b8d22c15",
   "metadata": {},
   "outputs": [],
   "source": [
    "df['NewDriver'] = df['NewDriver'].apply(bool_to_int)\n",
    "df['HighValue'] = df['HighValue'].apply(bool_to_int)\n",
    "df['Gender'] = df['Gender'].apply(gender_to_num)\n",
    "df['Vehicle_Age'] = df['Vehicle_Age'].apply(age_to_number)\n",
    "df['Vehicle_Damage'] = df['Vehicle_Damage'].apply(damage_to_number)"
   ]
  },
  {
   "cell_type": "code",
   "execution_count": 48,
   "id": "1fddf3ab-d68f-4bba-aee8-c89952dc55b4",
   "metadata": {},
   "outputs": [],
   "source": [
    "df.drop(columns=['Driving_License', 'Vintage'], inplace=True)"
   ]
  },
  {
   "cell_type": "markdown",
   "id": "f319563b",
   "metadata": {
    "papermill": {
     "duration": 0.007538,
     "end_time": "2024-07-22T07:07:35.763238",
     "exception": false,
     "start_time": "2024-07-22T07:07:35.755700",
     "status": "completed"
    },
    "tags": []
   },
   "source": [
    "## Scaling"
   ]
  },
  {
   "cell_type": "code",
   "execution_count": 49,
   "id": "3552a83a",
   "metadata": {
    "papermill": {
     "duration": 2.736089,
     "end_time": "2024-07-22T07:07:38.507184",
     "exception": false,
     "start_time": "2024-07-22T07:07:35.771095",
     "status": "completed"
    },
    "tags": []
   },
   "outputs": [],
   "source": [
    "X_train, X_test, y_train, y_test = train_test_split(df, target, test_size=0.3, random_state=55)"
   ]
  },
  {
   "cell_type": "code",
   "execution_count": 50,
   "id": "c5c8c880-88ef-409b-aae8-12937878f731",
   "metadata": {},
   "outputs": [],
   "source": [
    "xtrain_policy = X_train['Policy_Sales_Channel']  \n",
    "xtest_policy = X_test['Policy_Sales_Channel']\n",
    "X_train = X_train.drop(columns=['Policy_Sales_Channel'])\n",
    "X_test = X_test.drop(columns=['Policy_Sales_Channel'])"
   ]
  },
  {
   "cell_type": "code",
   "execution_count": 51,
   "id": "1acf686c",
   "metadata": {
    "papermill": {
     "duration": 1.736742,
     "end_time": "2024-07-22T07:07:40.251811",
     "exception": false,
     "start_time": "2024-07-22T07:07:38.515069",
     "status": "completed"
    },
    "tags": []
   },
   "outputs": [],
   "source": [
    "scaler = StandardScaler()\n",
    "scaler.fit(X_train)\n",
    "numerical_columns = df.columns.drop('Policy_Sales_Channel')\n",
    "X_train = pd.DataFrame(scaler.transform(X_train), columns=numerical_columns)\n",
    "X_test = pd.DataFrame(scaler.transform(X_test), columns=numerical_columns)"
   ]
  },
  {
   "cell_type": "code",
   "execution_count": 52,
   "id": "2360cd7d-0f33-45d7-b447-d6a6ae91fa1f",
   "metadata": {},
   "outputs": [],
   "source": [
    "X_train = pd.concat([X_train, xtrain_policy.reset_index(drop=True)], axis=1)\n",
    "X_test = pd.concat([X_test, xtest_policy.reset_index(drop=True)], axis=1)"
   ]
  },
  {
   "cell_type": "markdown",
   "id": "7c15f866",
   "metadata": {
    "papermill": {
     "duration": 0.008543,
     "end_time": "2024-07-22T07:07:43.984744",
     "exception": false,
     "start_time": "2024-07-22T07:07:43.976201",
     "status": "completed"
    },
    "tags": []
   },
   "source": [
    "## Logistic Regression"
   ]
  },
  {
   "cell_type": "code",
   "execution_count": 53,
   "id": "1c37c883",
   "metadata": {
    "papermill": {
     "duration": 11.522661,
     "end_time": "2024-07-22T07:07:55.516070",
     "exception": false,
     "start_time": "2024-07-22T07:07:43.993409",
     "status": "completed"
    },
    "tags": []
   },
   "outputs": [],
   "source": [
    "lr = LogisticRegression(max_iter=1000)\n",
    "lr.fit(X_train, y_train)\n",
    "lr_pred = lr.predict(X_test)"
   ]
  },
  {
   "cell_type": "code",
   "execution_count": 54,
   "id": "55da81b0",
   "metadata": {
    "papermill": {
     "duration": 0.393816,
     "end_time": "2024-07-22T07:07:55.924912",
     "exception": false,
     "start_time": "2024-07-22T07:07:55.531096",
     "status": "completed"
    },
    "tags": []
   },
   "outputs": [
    {
     "data": {
      "text/plain": [
       "0.876782154694852"
      ]
     },
     "execution_count": 54,
     "metadata": {},
     "output_type": "execute_result"
    }
   ],
   "source": [
    "lr_accuracy = accuracy_score(y_test, lr_pred)\n",
    "lr_accuracy"
   ]
  },
  {
   "cell_type": "code",
   "execution_count": 55,
   "id": "bc426b34",
   "metadata": {
    "papermill": {
     "duration": 0.171859,
     "end_time": "2024-07-22T07:07:56.105679",
     "exception": false,
     "start_time": "2024-07-22T07:07:55.933820",
     "status": "completed"
    },
    "tags": []
   },
   "outputs": [],
   "source": [
    "lr_prob = lr.predict_proba(X_test)\n",
    "lr_prob = lr_prob[:, 1]"
   ]
  },
  {
   "cell_type": "markdown",
   "id": "8c9768fb",
   "metadata": {
    "papermill": {
     "duration": 0.008608,
     "end_time": "2024-07-22T07:07:56.123127",
     "exception": false,
     "start_time": "2024-07-22T07:07:56.114519",
     "status": "completed"
    },
    "tags": []
   },
   "source": [
    "## Decision Tree"
   ]
  },
  {
   "cell_type": "code",
   "execution_count": null,
   "id": "0302acd6",
   "metadata": {
    "papermill": {
     "duration": 120.948026,
     "end_time": "2024-07-22T07:09:57.079928",
     "exception": false,
     "start_time": "2024-07-22T07:07:56.131902",
     "status": "completed"
    },
    "tags": []
   },
   "outputs": [],
   "source": [
    "dt = DecisionTreeClassifier()\n",
    "dt.fit(X_train, y_train)\n",
    "dt_pred = dt.predict(X_test)\n",
    "dt_accuracy = accuracy_score(y_test, dt_pred)\n",
    "dt_prob = dt.predict_proba(X_test)\n",
    "dt_prob = dt_prob[:, 1]\n",
    "dt_accuracy"
   ]
  },
  {
   "cell_type": "markdown",
   "id": "272d807d",
   "metadata": {
    "papermill": {
     "duration": 0.00894,
     "end_time": "2024-07-22T07:09:57.098318",
     "exception": false,
     "start_time": "2024-07-22T07:09:57.089378",
     "status": "completed"
    },
    "tags": []
   },
   "source": [
    "## Random Forest"
   ]
  },
  {
   "cell_type": "code",
   "execution_count": null,
   "id": "05b78965",
   "metadata": {
    "papermill": {
     "duration": 350.538687,
     "end_time": "2024-07-22T07:15:47.645994",
     "exception": false,
     "start_time": "2024-07-22T07:09:57.107307",
     "status": "completed"
    },
    "tags": []
   },
   "outputs": [],
   "source": [
    "rf = RandomForestClassifier(n_estimators = 10, random_state=55)\n",
    "rf.fit(X_train, y_train)"
   ]
  },
  {
   "cell_type": "code",
   "execution_count": null,
   "id": "79323ca1",
   "metadata": {
    "papermill": {
     "duration": 28.326438,
     "end_time": "2024-07-22T07:16:15.982832",
     "exception": false,
     "start_time": "2024-07-22T07:15:47.656394",
     "status": "completed"
    },
    "tags": []
   },
   "outputs": [],
   "source": [
    "rf_pred = rf.predict(X_test)\n",
    "rf_accuracy = accuracy_score(y_test, rf_pred)"
   ]
  },
  {
   "cell_type": "code",
   "execution_count": null,
   "id": "a2619237-a92b-4647-8066-542e37c7e5b6",
   "metadata": {},
   "outputs": [],
   "source": [
    "rf_accuracy"
   ]
  },
  {
   "cell_type": "markdown",
   "id": "dfe7baad",
   "metadata": {
    "papermill": {
     "duration": 0.009268,
     "end_time": "2024-07-22T07:16:16.001652",
     "exception": false,
     "start_time": "2024-07-22T07:16:15.992384",
     "status": "completed"
    },
    "tags": []
   },
   "source": [
    "## XGBoost"
   ]
  },
  {
   "cell_type": "code",
   "execution_count": null,
   "id": "0a1a28b2",
   "metadata": {
    "papermill": {
     "duration": 0.018241,
     "end_time": "2024-07-22T07:16:16.029371",
     "exception": false,
     "start_time": "2024-07-22T07:16:16.011130",
     "status": "completed"
    },
    "tags": []
   },
   "outputs": [],
   "source": [
    "xgb_params = {\n",
    "    'objective': 'binary:logistic',\n",
    "    'max_depth': 10,\n",
    "    'eta': 0.5,\n",
    "    'eval_metric': 'logloss'\n",
    "}"
   ]
  },
  {
   "cell_type": "code",
   "execution_count": null,
   "id": "baa9d2a6-1d57-43a8-bb0c-f38f03a90b09",
   "metadata": {},
   "outputs": [],
   "source": [
    "X_train.head()"
   ]
  },
  {
   "cell_type": "code",
   "execution_count": null,
   "id": "322fbaad",
   "metadata": {
    "papermill": {
     "duration": 2.111382,
     "end_time": "2024-07-22T07:16:18.150346",
     "exception": false,
     "start_time": "2024-07-22T07:16:16.038964",
     "status": "completed"
    },
    "tags": []
   },
   "outputs": [],
   "source": [
    "dtrain = xgb.DMatrix(X_train, label=y_train, enable_categorical=True)\n",
    "dtest = xgb.DMatrix(X_test, label=y_test, enable_categorical=True)"
   ]
  },
  {
   "cell_type": "code",
   "execution_count": null,
   "id": "8a8a3144",
   "metadata": {
    "papermill": {
     "duration": 119.187429,
     "end_time": "2024-07-22T07:18:17.347260",
     "exception": false,
     "start_time": "2024-07-22T07:16:18.159831",
     "status": "completed"
    },
    "tags": []
   },
   "outputs": [],
   "source": [
    "xgb_model = xgb.train(xgb_params, dtrain, 100, evals=[(dtest, 'eval'), (dtrain, 'train')])"
   ]
  },
  {
   "cell_type": "code",
   "execution_count": null,
   "id": "5e42f56a",
   "metadata": {
    "papermill": {
     "duration": 6.881388,
     "end_time": "2024-07-22T07:18:24.244225",
     "exception": false,
     "start_time": "2024-07-22T07:18:17.362837",
     "status": "completed"
    },
    "tags": []
   },
   "outputs": [],
   "source": [
    "xgb_prob = xgb_model.predict(dtest)\n",
    "xgb_pred = (xgb_prob > 0.5).astype(int)\n",
    "accuracy = accuracy_score(y_test, xgb_pred)\n",
    "accuracy"
   ]
  },
  {
   "cell_type": "markdown",
   "id": "8dfa09ea-f544-445e-bfc9-0e7e14e37351",
   "metadata": {},
   "source": [
    "## CatBoost"
   ]
  },
  {
   "cell_type": "code",
   "execution_count": null,
   "id": "66a11bfd-2883-49a5-bb4e-487a0db8be4f",
   "metadata": {},
   "outputs": [],
   "source": [
    "cb = CatBoostClassifier(\n",
    "    iterations=500,\n",
    "    depth=10,\n",
    "    learning_rate=0.3,\n",
    "    loss_function='Logloss',\n",
    "    cat_features=['Policy_Sales_Channel']\n",
    ")"
   ]
  },
  {
   "cell_type": "code",
   "execution_count": null,
   "id": "23abc249-614f-4656-ab0e-6045485d44f9",
   "metadata": {},
   "outputs": [],
   "source": [
    "X_train['Policy_Sales_Channel'] = X_train['Policy_Sales_Channel'].astype('int')\n",
    "X_test['Policy_Sales_Channel'] = X_test['Policy_Sales_Channel'].astype('int')"
   ]
  },
  {
   "cell_type": "code",
   "execution_count": null,
   "id": "39c78a72-c685-4b60-b1a2-e76b36359f0d",
   "metadata": {},
   "outputs": [],
   "source": [
    "cb.fit(X_train, y_train, cat_features=['Policy_Sales_Channel'])"
   ]
  },
  {
   "cell_type": "code",
   "execution_count": null,
   "id": "ecce40d6-4f22-4346-bdbb-c5b25ea3c565",
   "metadata": {},
   "outputs": [],
   "source": [
    "cb_pred = cb.predict(X_test)"
   ]
  },
  {
   "cell_type": "code",
   "execution_count": null,
   "id": "02c98c88-d076-40cb-a48b-f56d3eee9157",
   "metadata": {},
   "outputs": [],
   "source": [
    "cb_accuracy = accuracy_score(y_test, cb_pred)\n",
    "cb_accuracy"
   ]
  },
  {
   "cell_type": "markdown",
   "id": "dbd7ce8e-33f4-4290-8a1b-e4610ed4f4e6",
   "metadata": {},
   "source": [
    "## Ensemble"
   ]
  },
  {
   "cell_type": "code",
   "execution_count": null,
   "id": "524bc330-677f-4fde-9260-3e725e0a33f1",
   "metadata": {},
   "outputs": [],
   "source": [
    "#lr_prob = lr.predict_proba(X_train)\n",
    "#dt_prob = dt.predict_proba(X_train)\n",
    "#rf_prob = rf.predict_proba(X_train)\n",
    "xgb_prob = xgb_model.predict(xgb.DMatrix(X_train))\n",
    "cb_prob = cb.predict_proba(X_train)"
   ]
  },
  {
   "cell_type": "code",
   "execution_count": null,
   "id": "2fbcc905-487c-4f31-a83b-24ae125fc136",
   "metadata": {},
   "outputs": [],
   "source": [
    "meta_df = pd.DataFrame()\n",
    "#lr_prob = lr_prob[:, 1]\n",
    "#dt_prob = dt_prob[:, 1]\n",
    "#rf_prob = rf_prob[:, 1]\n",
    "cb_prob = cb_prob[:, 1]"
   ]
  },
  {
   "cell_type": "code",
   "execution_count": null,
   "id": "88971a14-6aeb-4dda-b008-90515539b25e",
   "metadata": {},
   "outputs": [],
   "source": [
    "#meta_df['LR'] = lr_prob\n",
    "#meta_df['DT'] = dt_prob\n",
    "#meta_df['RF'] = rf_prob\n",
    "meta_df['xgb'] = xgb_prob\n",
    "meta_df['cb'] = cb_prob"
   ]
  },
  {
   "cell_type": "code",
   "execution_count": null,
   "id": "8d31702c-1c86-4e06-b223-d562eedc723a",
   "metadata": {},
   "outputs": [],
   "source": [
    "meta = LogisticRegression()"
   ]
  },
  {
   "cell_type": "code",
   "execution_count": null,
   "id": "f1e4a1a5-a4d4-445b-bb5c-72d9a5c72eb4",
   "metadata": {},
   "outputs": [],
   "source": [
    "meta.fit(meta_df, y_train)"
   ]
  },
  {
   "cell_type": "code",
   "execution_count": null,
   "id": "797f8b95-f0b1-475e-9974-d51a3bec24af",
   "metadata": {},
   "outputs": [],
   "source": [
    "#lr_prob = lr.predict_proba(X_test)\n",
    "#dt_prob = dt.predict_proba(X_test)\n",
    "#rf_prob = rf.predict_proba(X_test)\n",
    "xgb_prob = xgb_model.predict(xgb.DMatrix(X_test))\n",
    "cb_prob = cb.predict_proba(X_test)"
   ]
  },
  {
   "cell_type": "code",
   "execution_count": null,
   "id": "0a183f19-a4f2-425e-8688-b6b609ef7d47",
   "metadata": {},
   "outputs": [],
   "source": [
    "meta_df = pd.DataFrame()\n",
    "#lr_prob = lr_prob[:, 1]\n",
    "#dt_prob = dt_prob[:, 1]\n",
    "#rf_prob = rf_prob[:, 1]\n",
    "cb_prob = cb_prob[:, 1]"
   ]
  },
  {
   "cell_type": "code",
   "execution_count": null,
   "id": "7bf16313-f1a2-4992-821b-903dea41a455",
   "metadata": {},
   "outputs": [],
   "source": [
    "#meta_df['LR'] = lr_prob\n",
    "#meta_df['DT'] = dt_prob\n",
    "#meta_df['RF'] = rf_prob\n",
    "meta_df['xgb'] = xgb_prob\n",
    "meta_df['cb'] = cb_prob"
   ]
  },
  {
   "cell_type": "code",
   "execution_count": null,
   "id": "9ce68b8c-70c8-4a55-b360-66114510e767",
   "metadata": {},
   "outputs": [],
   "source": [
    "meta_pred = meta.predict(meta_df)\n",
    "meta_accuracy = accuracy_score(y_test, meta_pred)\n",
    "meta_accuracy"
   ]
  },
  {
   "cell_type": "markdown",
   "id": "fc3b1a27",
   "metadata": {
    "papermill": {
     "duration": 0.019187,
     "end_time": "2024-07-22T07:18:24.287653",
     "exception": false,
     "start_time": "2024-07-22T07:18:24.268466",
     "status": "completed"
    },
    "tags": []
   },
   "source": [
    "## Submission"
   ]
  },
  {
   "cell_type": "code",
   "execution_count": null,
   "id": "c59efd16",
   "metadata": {
    "papermill": {
     "duration": 23.637276,
     "end_time": "2024-07-22T07:18:47.941748",
     "exception": false,
     "start_time": "2024-07-22T07:18:24.304472",
     "status": "completed"
    },
    "tags": []
   },
   "outputs": [],
   "source": [
    "test_df = pd.read_csv('test.csv')\n",
    "test_id = test_df['id']\n",
    "test_df.drop(columns=['id', 'Region_Code'], inplace=True)\n",
    "test_df['Gender'] = test_df['Gender'].apply(gender_to_num)\n",
    "test_df['Vehicle_Age'] = test_df['Vehicle_Age'].apply(age_to_number)\n",
    "test_df['Vehicle_Damage'] = test_df['Vehicle_Damage'].apply(damage_to_number)"
   ]
  },
  {
   "cell_type": "code",
   "execution_count": null,
   "id": "de5aa920-9fcf-4750-916a-8b8497082e0c",
   "metadata": {},
   "outputs": [],
   "source": [
    "test_policy = test_df['Policy_Sales_Channel']\n",
    "test_df.drop(columns=['Policy_Sales_Channel'], inplace=True)"
   ]
  },
  {
   "cell_type": "code",
   "execution_count": null,
   "id": "34c6f216-6e03-44c2-89c1-a5ade3b2a68b",
   "metadata": {},
   "outputs": [],
   "source": [
    "numerical_columns = test_df.columns\n",
    "test_df = pd.DataFrame(scaler.transform(test_df), columns=numerical_columns)\n",
    "test_df = pd.concat([test_df, test_policy.reset_index(drop=True)], axis=1)"
   ]
  },
  {
   "cell_type": "code",
   "execution_count": null,
   "id": "e2c5744b-6b14-4b3a-a01b-8dce7cb504e4",
   "metadata": {},
   "outputs": [],
   "source": [
    "test_df['Policy_Sales_Channel'] = test_df['Policy_Sales_Channel'].astype(int)"
   ]
  },
  {
   "cell_type": "code",
   "execution_count": null,
   "id": "d0aad8b0",
   "metadata": {
    "papermill": {
     "duration": 84.583972,
     "end_time": "2024-07-22T07:20:12.541572",
     "exception": false,
     "start_time": "2024-07-22T07:18:47.957600",
     "status": "completed"
    },
    "tags": []
   },
   "outputs": [],
   "source": [
    "#lr_test = lr.predict_proba(test_df)\n",
    "#dt_test = dt.predict_proba(test_df)\n",
    "#rf_test = rf.predict_proba(test_df)\n",
    "xgb_test = xgb_model.predict(xgb.DMatrix(test_df))\n",
    "cb_test = cb.predict_proba(test_df)"
   ]
  },
  {
   "cell_type": "code",
   "execution_count": null,
   "id": "814e8097",
   "metadata": {
    "papermill": {
     "duration": 0.023977,
     "end_time": "2024-07-22T07:20:12.581236",
     "exception": false,
     "start_time": "2024-07-22T07:20:12.557259",
     "status": "completed"
    },
    "tags": []
   },
   "outputs": [],
   "source": [
    "#lr_test = lr_test[:, 1]\n",
    "#dt_test = dt_test[:, 1]\n",
    "#rf_test = rf_test[:, 1]\n",
    "cb_test = cb_test[:, 1]"
   ]
  },
  {
   "cell_type": "code",
   "execution_count": null,
   "id": "440ea94f-0e28-4f3d-a8c8-e85f851e1947",
   "metadata": {},
   "outputs": [],
   "source": [
    "test_meta = pd.DataFrame()\n",
    "test_meta['xgb'] = xgb_test\n",
    "test_meta['cb'] = cb_test"
   ]
  },
  {
   "cell_type": "code",
   "execution_count": null,
   "id": "90292796",
   "metadata": {
    "papermill": {
     "duration": 0.150042,
     "end_time": "2024-07-22T07:20:12.748553",
     "exception": false,
     "start_time": "2024-07-22T07:20:12.598511",
     "status": "completed"
    },
    "tags": []
   },
   "outputs": [],
   "source": [
    "response = meta.predict_proba(test_meta)[:, 1]"
   ]
  },
  {
   "cell_type": "code",
   "execution_count": null,
   "id": "6cb4eaea",
   "metadata": {
    "papermill": {
     "duration": 0.262076,
     "end_time": "2024-07-22T07:20:13.026371",
     "exception": false,
     "start_time": "2024-07-22T07:20:12.764295",
     "status": "completed"
    },
    "tags": []
   },
   "outputs": [],
   "source": [
    "result = pd.DataFrame()\n",
    "result['id'] = test_id\n",
    "result['Response'] = response"
   ]
  },
  {
   "cell_type": "code",
   "execution_count": null,
   "id": "5e297068",
   "metadata": {
    "papermill": {
     "duration": 18.036805,
     "end_time": "2024-07-22T07:20:31.078957",
     "exception": false,
     "start_time": "2024-07-22T07:20:13.042152",
     "status": "completed"
    },
    "tags": []
   },
   "outputs": [],
   "source": [
    "result.to_csv('submission.csv', index=False)"
   ]
  },
  {
   "cell_type": "markdown",
   "id": "78d433af-30c8-4f5d-bd61-5cfe2026f3cb",
   "metadata": {},
   "source": [
    "## Feature Importances "
   ]
  },
  {
   "cell_type": "code",
   "execution_count": 105,
   "id": "b6627e5b",
   "metadata": {
    "papermill": {
     "duration": 0.015657,
     "end_time": "2024-07-22T07:20:31.111552",
     "exception": false,
     "start_time": "2024-07-22T07:20:31.095895",
     "status": "completed"
    },
    "tags": []
   },
   "outputs": [
    {
     "data": {
      "text/plain": [
       "<BarContainer object of 13 artists>"
      ]
     },
     "execution_count": 105,
     "metadata": {},
     "output_type": "execute_result"
    },
    {
     "data": {
      "image/png": "[encoded data removed]",
      "text/plain": [
       "<Figure size 2000x1000 with 1 Axes>"
      ]
     },
     "metadata": {},
     "output_type": "display_data"
    }
   ],
   "source": [
    "lr_coef = lr.coef_[0]\n",
    "plt.figure(figsize=(20, 10))\n",
    "plt.bar(df.columns, abs(lr_coef))"
   ]
  },
  {
   "cell_type": "code",
   "execution_count": 106,
   "id": "1eeef964-d196-43d3-806f-682137742b20",
   "metadata": {},
   "outputs": [
    {
     "data": {
      "text/plain": [
       "<BarContainer object of 13 artists>"
      ]
     },
     "execution_count": 106,
     "metadata": {},
     "output_type": "execute_result"
    },
    {
     "data": {
      "image/png": "[encoded data removed]",
      "text/plain": [
       "<Figure size 2000x1000 with 1 Axes>"
      ]
     },
     "metadata": {},
     "output_type": "display_data"
    }
   ],
   "source": [
    "dt_fi = dt.feature_importances_\n",
    "plt.figure(figsize=(20, 10))\n",
    "plt.bar(df.columns, abs(dt_fi))"
   ]
  },
  {
   "cell_type": "code",
   "execution_count": 107,
   "id": "e9c2d308-26a8-4ee9-a416-22e59d8886f8",
   "metadata": {},
   "outputs": [
    {
     "data": {
      "text/plain": [
       "<BarContainer object of 13 artists>"
      ]
     },
     "execution_count": 107,
     "metadata": {},
     "output_type": "execute_result"
    },
    {
     "data": {
      "image/png": "[encoded data removed]",
      "text/plain": [
       "<Figure size 2000x1000 with 1 Axes>"
      ]
     },
     "metadata": {},
     "output_type": "display_data"
    }
   ],
   "source": [
    "rf_fi = rf.feature_importances_\n",
    "plt.figure(figsize=(20, 10))\n",
    "plt.bar(df.columns, abs(rf_fi))"
   ]
  },
  {
   "cell_type": "code",
   "execution_count": 115,
   "id": "087e6e85-9837-4d00-af7e-edfcf9541cdc",
   "metadata": {},
   "outputs": [
    {
     "data": {
      "text/plain": [
       "<BarContainer object of 12 artists>"
      ]
     },
     "execution_count": 115,
     "metadata": {},
     "output_type": "execute_result"
    },
    {
     "data": {
      "image/png": "[encoded data removed]",
      "text/plain": [
       "<Figure size 2000x1000 with 1 Axes>"
      ]
     },
     "metadata": {},
     "output_type": "display_data"
    }
   ],
   "source": [
    "xgb_fi = xgb_model.get_score(importance_type='gain')\n",
    "xgb_fi = np.array(list(xgb_fi.values()))\n",
    "plt.figure(figsize=(20, 10))\n",
    "plt.bar(df.columns.drop('Policy_Sales_Channel'), xgb_fi)"
   ]
  },
  {
   "cell_type": "code",
   "execution_count": 110,
   "id": "0a56fa92-7109-4506-87bf-f59353fa7245",
   "metadata": {},
   "outputs": [
    {
     "data": {
      "text/plain": [
       "<BarContainer object of 13 artists>"
      ]
     },
     "execution_count": 110,
     "metadata": {},
     "output_type": "execute_result"
    },
    {
     "data": {
      "image/png": "[encoded data removed]",
      "text/plain": [
       "<Figure size 2000x1000 with 1 Axes>"
      ]
     },
     "metadata": {},
     "output_type": "display_data"
    }
   ],
   "source": [
    "cb_fi = cb.get_feature_importance()\n",
    "plt.figure(figsize=(20, 10))\n",
    "plt.bar(df.columns, abs(cb_fi))"
   ]
  },
  {
   "cell_type": "code",
   "execution_count": null,
   "id": "124ff99e-9461-4a6c-8bcc-044bd8f7cd22",
   "metadata": {},
   "outputs": [],
   "source": []
  }
 ],
 "metadata": {
  "kaggle": {
   "accelerator": "none",
   "dataSources": [
    {
     "databundleVersionId": 8930475,
     "sourceId": 73291,
     "sourceType": "competition"
    }
   ],
   "dockerImageVersionId": 30746,
   "isGpuEnabled": false,
   "isInternetEnabled": false,
   "language": "python",
   "sourceType": "notebook"
  },
  "kernelspec": {
   "display_name": "Python 3 (ipykernel)",
   "language": "python",
   "name": "python3"
  },
  "language_info": {
   "codemirror_mode": {
    "name": "ipython",
    "version": 3
   },
   "file_extension": ".py",
   "mimetype": "text/x-python",
   "name": "python",
   "nbconvert_exporter": "python",
   "pygments_lexer": "ipython3",
   "version": "3.9.13"
  },
  "papermill": {
   "default_parameters": {},
   "duration": 817.838262,
   "end_time": "2024-07-22T07:20:32.054002",
   "environment_variables": {},
   "exception": null,
   "input_path": "__notebook__.ipynb",
   "output_path": "__notebook__.ipynb",
   "parameters": {},
   "start_time": "2024-07-22T07:06:54.215740",
   "version": "2.5.0"
  }
 },
 "nbformat": 4,
 "nbformat_minor": 5
}
